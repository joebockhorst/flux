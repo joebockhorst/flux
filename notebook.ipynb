{
 "cells": [
  {
   "cell_type": "code",
   "execution_count": 1,
   "id": "bc6a629a",
   "metadata": {},
   "outputs": [
    {
     "name": "stdout",
     "output_type": "stream",
     "text": [
      "data/092121_HRPFlux_BART_read at 20m.csv\n",
      "data/100621_HRPFlux_TVCHPV_10m.csv\n",
      "data/100621_HRPFlux_TVCHPV_5m.csv\n",
      "data/100521_HRPFlux_TVCHPV_5m.csv\n"
     ]
    }
   ],
   "source": [
    "from flux.core import intragroup_vs_control_table, intergroup_vs_control_table, datafiles\n",
    "for f in datafiles():\n",
    "    print(f\"data/{f}\")\n",
    "    \n",
    "basename = \"092121_HRPFlux_BART_read at 20m\"\n",
    "filename = f\"data/{basename}.csv\""
   ]
  },
  {
   "cell_type": "code",
   "execution_count": 2,
   "id": "68505226",
   "metadata": {
    "scrolled": true
   },
   "outputs": [
    {
     "name": "stdout",
     "output_type": "stream",
     "text": [
      "+------------------------------------------------------------------------------------+\n",
      "|                    Intra-group change relative to Control pH7.4                    |\n",
      "+----------------------+----------------------+--------+--------+----------+---------+\n",
      "| Pretreatment         | Treatment            |  Mean  |  SEM   | % change |    p    |\n",
      "+----------------------+----------------------+--------+--------+----------+---------+\n",
      "| No Pretreatment      | Control pH7.4        |   2.55 |   0.07 |       0  |  1.0000 |\n",
      "| No Pretreatment      | 1mg/ml pepsin, pH5   |  19.13 |   0.82 |     650  |  0.0000 |\n",
      "| No Pretreatment      | 1mg/ml pepsin, pH4   |  16.72 |   1.07 |     556  |  0.0000 |\n",
      "| No Pretreatment      | 0.1mg/ml pepsin, pH3 |  15.92 |   0.52 |     525  |  0.0000 |\n",
      "| No Pretreatment      | pH3                  |   4.61 |   0.14 |      81  |  0.0000 |\n",
      "| No Pretreatment      | 0.1% Tx-100          |  10.06 |   0.32 |     295  |  0.0000 |\n",
      "| Placebo              | Control pH7.4        |   6.56 |   0.19 |       0  |  1.0000 |\n",
      "| Placebo              | 1mg/ml pepsin, pH5   |  14.06 |   0.47 |     114  |  0.0000 |\n",
      "| Placebo              | 1mg/ml pepsin, pH4   |  15.15 |   0.71 |     131  |  0.0000 |\n",
      "| Placebo              | 0.1mg/ml pepsin, pH3 |   8.89 |   0.44 |      36  |  0.0012 |\n",
      "| Placebo              | pH3                  |   4.00 |   0.14 |     -39  |  0.0000 |\n",
      "| Placebo              | 0.1% Tx-100          |   8.13 |   0.14 |      24  |  0.0000 |\n",
      "| Gaviscon Advanced    | Control pH7.4        |   4.03 |   0.10 |       0  |  1.0000 |\n",
      "| Gaviscon Advanced    | 1mg/ml pepsin, pH5   |   8.02 |   0.39 |      99  |  0.0000 |\n",
      "| Gaviscon Advanced    | 1mg/ml pepsin, pH4   |   8.97 |   0.67 |     122  |  0.0002 |\n",
      "| Gaviscon Advanced    | 0.1mg/ml pepsin, pH3 |   7.57 |   0.44 |      88  |  0.0001 |\n",
      "| Gaviscon Advanced    | pH3                  |   2.93 |   0.31 |     -27  |  0.0117 |\n",
      "| Gaviscon Advanced    | 0.1% Tx-100          |   9.59 |   0.27 |     138  |  0.0000 |\n",
      "| Gaviscon Dual Action | Control pH7.4        |   5.02 |   0.13 |       0  |  1.0000 |\n",
      "| Gaviscon Dual Action | 1mg/ml pepsin, pH5   |   7.28 |   0.20 |      45  |  0.0000 |\n",
      "| Gaviscon Dual Action | 1mg/ml pepsin, pH4   |   8.72 |   0.40 |      74  |  0.0000 |\n",
      "| Gaviscon Dual Action | 0.1mg/ml pepsin, pH3 |   7.36 |   0.25 |      47  |  0.0000 |\n",
      "| Gaviscon Dual Action | pH3                  |   3.02 |   0.20 |     -40  |  0.0000 |\n",
      "| Gaviscon Dual Action | 0.1% Tx-100          |   9.66 |   0.20 |      93  |  0.0000 |\n",
      "+----------------------+----------------------+--------+--------+----------+---------+\n"
     ]
    }
   ],
   "source": [
    "intragroup_vs_control_table(filename)"
   ]
  },
  {
   "cell_type": "code",
   "execution_count": null,
   "id": "2ebb5ab0",
   "metadata": {
    "scrolled": true
   },
   "outputs": [],
   "source": [
    "intergroup_vs_control_table(filename, \"No Pretreatment\")\n",
    "intergroup_vs_control_table(filename, \"Placebo\")\n",
    "intergroup_vs_control_table(filename, \"Gaviscon Advanced\")"
   ]
  },
  {
   "cell_type": "code",
   "execution_count": null,
   "id": "50e59f83",
   "metadata": {},
   "outputs": [],
   "source": []
  }
 ],
 "metadata": {
  "kernelspec": {
   "display_name": "Python 3 (ipykernel)",
   "language": "python",
   "name": "python3"
  },
  "language_info": {
   "codemirror_mode": {
    "name": "ipython",
    "version": 3
   },
   "file_extension": ".py",
   "mimetype": "text/x-python",
   "name": "python",
   "nbconvert_exporter": "python",
   "pygments_lexer": "ipython3",
   "version": "3.9.5"
  }
 },
 "nbformat": 4,
 "nbformat_minor": 5
}
