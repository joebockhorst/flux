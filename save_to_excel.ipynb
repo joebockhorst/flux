{
 "cells": [
  {
   "cell_type": "code",
   "execution_count": null,
   "id": "2caa3cfc",
   "metadata": {},
   "outputs": [],
   "source": [
    "from flux.core import datafiles\n",
    "from flux.core import FluxData, IntraGroup, InterGroup\n",
    "from pandas import ExcelWriter\n",
    "\n",
    "for f in datafiles():\n",
    "    print(f\"data/{f}\")\n",
    "\n",
    "basename = \"092121_HRPFlux_BART_read at 20m\"\n",
    "filename = f\"data/{basename}.csv\"\n",
    "\n",
    "def get_df(filename, ref_pretreatment=None):\n",
    "    fluxdata = FluxData(filename)\n",
    "    if ref_pretreatment is None:\n",
    "        intra_gd = IntraGroup(fluxdata, reference_treatment='Control pH7.4')\n",
    "        return intra_gd.get_dataframe()\n",
    "    else:\n",
    "        inter_gd = InterGroup(fluxdata=fluxdata, ref_pretreatment=ref_pretreatment, ref_treatment='Control pH7.4')\n",
    "        return inter_gd.get_dataframe()\n",
    "\n",
    "ew = ExcelWriter(\"data/output.xlsx\")\n",
    "\n",
    "df = get_df(filename)\n",
    "sheet_name = \"Intra-group rel. CTL pH7.4\"\n",
    "df.to_excel(ew, sheet_name=sheet_name)\n",
    "\n",
    "for ref_pretreatment in [\"No Pretreatment\", \"Placebo\", \"Gaviscon Advanced\"]:\n",
    "    df = get_df(filename, ref_pretreatment)\n",
    "    sheet_name = ref_pretreatment\n",
    "    df.to_excel(ew, sheet_name=sheet_name)\n",
    "\n",
    "ew.save()\n",
    "\n"
   ]
  }
 ],
 "metadata": {
  "kernelspec": {
   "display_name": "Python 3 (ipykernel)",
   "language": "python",
   "name": "python3"
  },
  "language_info": {
   "codemirror_mode": {
    "name": "ipython",
    "version": 3
   },
   "file_extension": ".py",
   "mimetype": "text/x-python",
   "name": "python",
   "nbconvert_exporter": "python",
   "pygments_lexer": "ipython3",
   "version": "3.9.5"
  }
 },
 "nbformat": 4,
 "nbformat_minor": 5
}
